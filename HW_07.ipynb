{
  "nbformat": 4,
  "nbformat_minor": 0,
  "metadata": {
    "colab": {
      "name": "HW_07.ipynb",
      "provenance": [],
      "collapsed_sections": [],
      "machine_shape": "hm",
      "include_colab_link": true
    },
    "language_info": {
      "codemirror_mode": {
        "name": "ipython",
        "version": 3
      },
      "file_extension": ".py",
      "mimetype": "text/x-python",
      "name": "python",
      "nbconvert_exporter": "python",
      "pygments_lexer": "ipython3",
      "version": "3.7.1"
    },
    "kernelspec": {
      "name": "python3",
      "display_name": "Python 3"
    },
    "widgets": {
      "application/vnd.jupyter.widget-state+json": {
        "511b68366a884c0ca60621d3ae794217": {
          "model_module": "@jupyter-widgets/controls",
          "model_name": "HBoxModel",
          "state": {
            "_view_name": "HBoxView",
            "_dom_classes": [],
            "_model_name": "HBoxModel",
            "_view_module": "@jupyter-widgets/controls",
            "_model_module_version": "1.5.0",
            "_view_count": null,
            "_view_module_version": "1.5.0",
            "box_style": "",
            "layout": "IPY_MODEL_2667d5fe0d0e4f6887bd226c6ace7f26",
            "_model_module": "@jupyter-widgets/controls",
            "children": [
              "IPY_MODEL_a21f5ae54bef477697e02542cc242593",
              "IPY_MODEL_f3c4c0f893734ac49f04e2c9abed80b1"
            ]
          }
        },
        "2667d5fe0d0e4f6887bd226c6ace7f26": {
          "model_module": "@jupyter-widgets/base",
          "model_name": "LayoutModel",
          "state": {
            "_view_name": "LayoutView",
            "grid_template_rows": null,
            "right": null,
            "justify_content": null,
            "_view_module": "@jupyter-widgets/base",
            "overflow": null,
            "_model_module_version": "1.2.0",
            "_view_count": null,
            "flex_flow": null,
            "width": null,
            "min_width": null,
            "border": null,
            "align_items": null,
            "bottom": null,
            "_model_module": "@jupyter-widgets/base",
            "top": null,
            "grid_column": null,
            "overflow_y": null,
            "overflow_x": null,
            "grid_auto_flow": null,
            "grid_area": null,
            "grid_template_columns": null,
            "flex": null,
            "_model_name": "LayoutModel",
            "justify_items": null,
            "grid_row": null,
            "max_height": null,
            "align_content": null,
            "visibility": null,
            "align_self": null,
            "height": null,
            "min_height": null,
            "padding": null,
            "grid_auto_rows": null,
            "grid_gap": null,
            "max_width": null,
            "order": null,
            "_view_module_version": "1.2.0",
            "grid_template_areas": null,
            "object_position": null,
            "object_fit": null,
            "grid_auto_columns": null,
            "margin": null,
            "display": null,
            "left": null
          }
        },
        "a21f5ae54bef477697e02542cc242593": {
          "model_module": "@jupyter-widgets/controls",
          "model_name": "IntProgressModel",
          "state": {
            "_view_name": "ProgressView",
            "style": "IPY_MODEL_19dfc65b363a489687d368d87f89af51",
            "_dom_classes": [],
            "description": "100%",
            "_model_name": "IntProgressModel",
            "bar_style": "success",
            "max": 200,
            "_view_module": "@jupyter-widgets/controls",
            "_model_module_version": "1.5.0",
            "value": 200,
            "_view_count": null,
            "_view_module_version": "1.5.0",
            "orientation": "horizontal",
            "min": 0,
            "description_tooltip": null,
            "_model_module": "@jupyter-widgets/controls",
            "layout": "IPY_MODEL_97d3efb52c5c48bcac5258fcbe6a7973"
          }
        },
        "f3c4c0f893734ac49f04e2c9abed80b1": {
          "model_module": "@jupyter-widgets/controls",
          "model_name": "HTMLModel",
          "state": {
            "_view_name": "HTMLView",
            "style": "IPY_MODEL_88d0ac28a7d042f9a2dd76e4cd832279",
            "_dom_classes": [],
            "description": "",
            "_model_name": "HTMLModel",
            "placeholder": "​",
            "_view_module": "@jupyter-widgets/controls",
            "_model_module_version": "1.5.0",
            "value": " 200/200 [04:44&lt;00:00,  1.42s/it]",
            "_view_count": null,
            "_view_module_version": "1.5.0",
            "description_tooltip": null,
            "_model_module": "@jupyter-widgets/controls",
            "layout": "IPY_MODEL_3532b31e12434eb7b05b49badf4ba144"
          }
        },
        "19dfc65b363a489687d368d87f89af51": {
          "model_module": "@jupyter-widgets/controls",
          "model_name": "ProgressStyleModel",
          "state": {
            "_view_name": "StyleView",
            "_model_name": "ProgressStyleModel",
            "description_width": "initial",
            "_view_module": "@jupyter-widgets/base",
            "_model_module_version": "1.5.0",
            "_view_count": null,
            "_view_module_version": "1.2.0",
            "bar_color": null,
            "_model_module": "@jupyter-widgets/controls"
          }
        },
        "97d3efb52c5c48bcac5258fcbe6a7973": {
          "model_module": "@jupyter-widgets/base",
          "model_name": "LayoutModel",
          "state": {
            "_view_name": "LayoutView",
            "grid_template_rows": null,
            "right": null,
            "justify_content": null,
            "_view_module": "@jupyter-widgets/base",
            "overflow": null,
            "_model_module_version": "1.2.0",
            "_view_count": null,
            "flex_flow": null,
            "width": null,
            "min_width": null,
            "border": null,
            "align_items": null,
            "bottom": null,
            "_model_module": "@jupyter-widgets/base",
            "top": null,
            "grid_column": null,
            "overflow_y": null,
            "overflow_x": null,
            "grid_auto_flow": null,
            "grid_area": null,
            "grid_template_columns": null,
            "flex": null,
            "_model_name": "LayoutModel",
            "justify_items": null,
            "grid_row": null,
            "max_height": null,
            "align_content": null,
            "visibility": null,
            "align_self": null,
            "height": null,
            "min_height": null,
            "padding": null,
            "grid_auto_rows": null,
            "grid_gap": null,
            "max_width": null,
            "order": null,
            "_view_module_version": "1.2.0",
            "grid_template_areas": null,
            "object_position": null,
            "object_fit": null,
            "grid_auto_columns": null,
            "margin": null,
            "display": null,
            "left": null
          }
        },
        "88d0ac28a7d042f9a2dd76e4cd832279": {
          "model_module": "@jupyter-widgets/controls",
          "model_name": "DescriptionStyleModel",
          "state": {
            "_view_name": "StyleView",
            "_model_name": "DescriptionStyleModel",
            "description_width": "",
            "_view_module": "@jupyter-widgets/base",
            "_model_module_version": "1.5.0",
            "_view_count": null,
            "_view_module_version": "1.2.0",
            "_model_module": "@jupyter-widgets/controls"
          }
        },
        "3532b31e12434eb7b05b49badf4ba144": {
          "model_module": "@jupyter-widgets/base",
          "model_name": "LayoutModel",
          "state": {
            "_view_name": "LayoutView",
            "grid_template_rows": null,
            "right": null,
            "justify_content": null,
            "_view_module": "@jupyter-widgets/base",
            "overflow": null,
            "_model_module_version": "1.2.0",
            "_view_count": null,
            "flex_flow": null,
            "width": null,
            "min_width": null,
            "border": null,
            "align_items": null,
            "bottom": null,
            "_model_module": "@jupyter-widgets/base",
            "top": null,
            "grid_column": null,
            "overflow_y": null,
            "overflow_x": null,
            "grid_auto_flow": null,
            "grid_area": null,
            "grid_template_columns": null,
            "flex": null,
            "_model_name": "LayoutModel",
            "justify_items": null,
            "grid_row": null,
            "max_height": null,
            "align_content": null,
            "visibility": null,
            "align_self": null,
            "height": null,
            "min_height": null,
            "padding": null,
            "grid_auto_rows": null,
            "grid_gap": null,
            "max_width": null,
            "order": null,
            "_view_module_version": "1.2.0",
            "grid_template_areas": null,
            "object_position": null,
            "object_fit": null,
            "grid_auto_columns": null,
            "margin": null,
            "display": null,
            "left": null
          }
        }
      }
    },
    "accelerator": "GPU"
  },
  "cells": [
    {
      "cell_type": "markdown",
      "metadata": {
        "id": "view-in-github",
        "colab_type": "text"
      },
      "source": [
        "<a href=\"https://colab.research.google.com/github/ssv273/computer_vision/blob/master/HW_07.ipynb\" target=\"_parent\"><img src=\"https://colab.research.google.com/assets/colab-badge.svg\" alt=\"Open In Colab\"/></a>"
      ]
    },
    {
      "cell_type": "markdown",
      "metadata": {
        "id": "y7c-vhTto-1_",
        "colab_type": "text"
      },
      "source": [
        "# Обработка видео\n",
        "Классификация действий по видео\n"
      ]
    },
    {
      "cell_type": "markdown",
      "metadata": {
        "id": "JH2ri2mQTU5s",
        "colab_type": "text"
      },
      "source": [
        "## Переключение версии TensorFlow"
      ]
    },
    {
      "cell_type": "code",
      "metadata": {
        "id": "cqhfvqRrugoS",
        "colab_type": "code",
        "colab": {}
      },
      "source": [
        "%tensorflow_version 2.x"
      ],
      "execution_count": 0,
      "outputs": []
    },
    {
      "cell_type": "code",
      "metadata": {
        "id": "iv4yU3Gb4MlY",
        "colab_type": "code",
        "colab": {}
      },
      "source": [
        "import os\n",
        "import glob\n",
        "import random\n",
        "import numpy as np\n",
        "import matplotlib.pyplot as plt\n",
        "\n",
        "import tensorflow as tf\n",
        "\n",
        "from tqdm.notebook import tqdm"
      ],
      "execution_count": 0,
      "outputs": []
    },
    {
      "cell_type": "code",
      "metadata": {
        "id": "rEbPbpjIDV57",
        "colab_type": "code",
        "outputId": "a8511af3-5dfa-43f2-db60-abb8979773af",
        "colab": {
          "base_uri": "https://localhost:8080/",
          "height": 91
        }
      },
      "source": [
        "if 1:\n",
        "    !pip install scikit-video==1.1.11\n",
        "import skvideo.io"
      ],
      "execution_count": 3,
      "outputs": [
        {
          "output_type": "stream",
          "text": [
            "Requirement already satisfied: scikit-video==1.1.11 in /usr/local/lib/python3.6/dist-packages (1.1.11)\n",
            "Requirement already satisfied: numpy in /usr/local/lib/python3.6/dist-packages (from scikit-video==1.1.11) (1.18.3)\n",
            "Requirement already satisfied: pillow in /usr/local/lib/python3.6/dist-packages (from scikit-video==1.1.11) (7.0.0)\n",
            "Requirement already satisfied: scipy in /usr/local/lib/python3.6/dist-packages (from scikit-video==1.1.11) (1.4.1)\n"
          ],
          "name": "stdout"
        }
      ]
    },
    {
      "cell_type": "markdown",
      "metadata": {
        "id": "gshnlHKETjEI",
        "colab_type": "text"
      },
      "source": [
        "## Загрузка и распаковка датасета KTH"
      ]
    },
    {
      "cell_type": "code",
      "metadata": {
        "id": "oUKrI6l_1CK_",
        "colab_type": "code",
        "outputId": "9acbd308-2c69-4cbd-c1eb-5e992d031a85",
        "colab": {
          "base_uri": "https://localhost:8080/",
          "height": 1000
        }
      },
      "source": [
        "if 1:\n",
        "    !wget http://www.nada.kth.se/cvap/actions/walking.zip\n",
        "    !wget http://www.nada.kth.se/cvap/actions/jogging.zip\n",
        "    !wget http://www.nada.kth.se/cvap/actions/running.zip\n",
        "    !wget http://www.nada.kth.se/cvap/actions/boxing.zip\n",
        "    !wget http://www.nada.kth.se/cvap/actions/handwaving.zip\n",
        "    !wget http://www.nada.kth.se/cvap/actions/handclapping.zip \n",
        "\n",
        "if 1:\n",
        "    !unzip walking.zip -d walking > /dev/null\n",
        "    !unzip jogging.zip -d jogging > /dev/null\n",
        "    !unzip running.zip -d running > /dev/null\n",
        "    !unzip boxing.zip -d boxing > /dev/null\n",
        "    !unzip handwaving.zip -d handwaving > /dev/null\n",
        "    !unzip handclapping.zip -d handclapping > /dev/null"
      ],
      "execution_count": 7,
      "outputs": [
        {
          "output_type": "stream",
          "text": [
            "--2020-05-03 10:15:43--  http://www.nada.kth.se/cvap/actions/walking.zip\n",
            "Resolving www.nada.kth.se (www.nada.kth.se)... 130.237.28.41, 2001:6b0:1:11c2::82ed:1c29\n",
            "Connecting to www.nada.kth.se (www.nada.kth.se)|130.237.28.41|:80... connected.\n",
            "HTTP request sent, awaiting response... 301 Moved Permanently\n",
            "Location: https://www.csc.kth.se/cvap/actions/walking.zip [following]\n",
            "--2020-05-03 10:15:44--  https://www.csc.kth.se/cvap/actions/walking.zip\n",
            "Resolving www.csc.kth.se (www.csc.kth.se)... 130.237.227.116\n",
            "Connecting to www.csc.kth.se (www.csc.kth.se)|130.237.227.116|:443... connected.\n",
            "HTTP request sent, awaiting response... 200 OK\n",
            "Length: unspecified [application/zip]\n",
            "Saving to: ‘walking.zip’\n",
            "\n",
            "walking.zip             [     <=>            ] 231.21M  7.95MB/s    in 31s     \n",
            "\n",
            "2020-05-03 10:16:16 (7.44 MB/s) - ‘walking.zip’ saved [242442411]\n",
            "\n",
            "--2020-05-03 10:16:17--  http://www.nada.kth.se/cvap/actions/jogging.zip\n",
            "Resolving www.nada.kth.se (www.nada.kth.se)... 130.237.28.41, 2001:6b0:1:11c2::82ed:1c29\n",
            "Connecting to www.nada.kth.se (www.nada.kth.se)|130.237.28.41|:80... connected.\n",
            "HTTP request sent, awaiting response... 301 Moved Permanently\n",
            "Location: https://www.csc.kth.se/cvap/actions/jogging.zip [following]\n",
            "--2020-05-03 10:16:17--  https://www.csc.kth.se/cvap/actions/jogging.zip\n",
            "Resolving www.csc.kth.se (www.csc.kth.se)... 130.237.227.116\n",
            "Connecting to www.csc.kth.se (www.csc.kth.se)|130.237.227.116|:443... connected.\n",
            "HTTP request sent, awaiting response... 200 OK\n",
            "Length: unspecified [application/zip]\n",
            "Saving to: ‘jogging.zip’\n",
            "\n",
            "jogging.zip             [        <=>         ] 161.13M  7.92MB/s    in 22s     \n",
            "\n",
            "2020-05-03 10:16:41 (7.25 MB/s) - ‘jogging.zip’ saved [168961290]\n",
            "\n",
            "--2020-05-03 10:16:42--  http://www.nada.kth.se/cvap/actions/running.zip\n",
            "Resolving www.nada.kth.se (www.nada.kth.se)... 130.237.28.41, 2001:6b0:1:11c2::82ed:1c29\n",
            "Connecting to www.nada.kth.se (www.nada.kth.se)|130.237.28.41|:80... connected.\n",
            "HTTP request sent, awaiting response... 301 Moved Permanently\n",
            "Location: https://www.csc.kth.se/cvap/actions/running.zip [following]\n",
            "--2020-05-03 10:16:42--  https://www.csc.kth.se/cvap/actions/running.zip\n",
            "Resolving www.csc.kth.se (www.csc.kth.se)... 130.237.227.116\n",
            "Connecting to www.csc.kth.se (www.csc.kth.se)|130.237.227.116|:443... connected.\n",
            "HTTP request sent, awaiting response... 200 OK\n",
            "Length: unspecified [application/zip]\n",
            "Saving to: ‘running.zip’\n",
            "\n",
            "running.zip             [                <=> ] 142.82M  8.00MB/s    in 20s     \n",
            "\n",
            "2020-05-03 10:17:03 (7.08 MB/s) - ‘running.zip’ saved [149756643]\n",
            "\n",
            "--2020-05-03 10:17:05--  http://www.nada.kth.se/cvap/actions/boxing.zip\n",
            "Resolving www.nada.kth.se (www.nada.kth.se)... 130.237.28.41, 2001:6b0:1:11c2::82ed:1c29\n",
            "Connecting to www.nada.kth.se (www.nada.kth.se)|130.237.28.41|:80... connected.\n",
            "HTTP request sent, awaiting response... 301 Moved Permanently\n",
            "Location: https://www.csc.kth.se/cvap/actions/boxing.zip [following]\n",
            "--2020-05-03 10:17:05--  https://www.csc.kth.se/cvap/actions/boxing.zip\n",
            "Resolving www.csc.kth.se (www.csc.kth.se)... 130.237.227.116\n",
            "Connecting to www.csc.kth.se (www.csc.kth.se)|130.237.227.116|:443... connected.\n",
            "HTTP request sent, awaiting response... 200 OK\n",
            "Length: unspecified [application/zip]\n",
            "Saving to: ‘boxing.zip’\n",
            "\n",
            "boxing.zip              [     <=>            ] 185.49M  8.02MB/s    in 25s     \n",
            "\n",
            "2020-05-03 10:17:32 (7.30 MB/s) - ‘boxing.zip’ saved [194498294]\n",
            "\n",
            "--2020-05-03 10:17:33--  http://www.nada.kth.se/cvap/actions/handwaving.zip\n",
            "Resolving www.nada.kth.se (www.nada.kth.se)... 130.237.28.41, 2001:6b0:1:11c2::82ed:1c29\n",
            "Connecting to www.nada.kth.se (www.nada.kth.se)|130.237.28.41|:80... connected.\n",
            "HTTP request sent, awaiting response... 301 Moved Permanently\n",
            "Location: https://www.csc.kth.se/cvap/actions/handwaving.zip [following]\n",
            "--2020-05-03 10:17:33--  https://www.csc.kth.se/cvap/actions/handwaving.zip\n",
            "Resolving www.csc.kth.se (www.csc.kth.se)... 130.237.227.116\n",
            "Connecting to www.csc.kth.se (www.csc.kth.se)|130.237.227.116|:443... connected.\n",
            "HTTP request sent, awaiting response... 200 OK\n",
            "Length: unspecified [application/zip]\n",
            "Saving to: ‘handwaving.zip’\n",
            "\n",
            "handwaving.zip          [        <=>         ] 208.84M  2.01MB/s    in 93s     \n",
            "\n",
            "2020-05-03 10:19:08 (2.23 MB/s) - ‘handwaving.zip’ saved [218981954]\n",
            "\n",
            "--2020-05-03 10:19:09--  http://www.nada.kth.se/cvap/actions/handclapping.zip\n",
            "Resolving www.nada.kth.se (www.nada.kth.se)... 130.237.28.41, 2001:6b0:1:11c2::82ed:1c29\n",
            "Connecting to www.nada.kth.se (www.nada.kth.se)|130.237.28.41|:80... connected.\n",
            "HTTP request sent, awaiting response... 301 Moved Permanently\n",
            "Location: https://www.csc.kth.se/cvap/actions/handclapping.zip [following]\n",
            "--2020-05-03 10:19:09--  https://www.csc.kth.se/cvap/actions/handclapping.zip\n",
            "Resolving www.csc.kth.se (www.csc.kth.se)... 130.237.227.116\n",
            "Connecting to www.csc.kth.se (www.csc.kth.se)|130.237.227.116|:443... connected.\n",
            "HTTP request sent, awaiting response... 200 OK\n",
            "Length: unspecified [application/zip]\n",
            "Saving to: ‘handclapping.zip’\n",
            "\n",
            "handclapping.zip        [     <=>            ] 168.71M  7.81MB/s    in 24s     \n",
            "\n",
            "2020-05-03 10:19:34 (7.05 MB/s) - ‘handclapping.zip’ saved [176901831]\n",
            "\n"
          ],
          "name": "stdout"
        }
      ]
    },
    {
      "cell_type": "code",
      "metadata": {
        "id": "vks_67SdJrHk",
        "colab_type": "code",
        "colab": {}
      },
      "source": [
        "!rm *.zip"
      ],
      "execution_count": 0,
      "outputs": []
    },
    {
      "cell_type": "markdown",
      "metadata": {
        "id": "z9xxQH9LTsll",
        "colab_type": "text"
      },
      "source": [
        "## Подготовка датасета для классификации"
      ]
    },
    {
      "cell_type": "code",
      "metadata": {
        "id": "xXx10w4T7JcT",
        "colab_type": "code",
        "outputId": "ae6c4281-dc1a-41c9-bc31-42325d31a9ea",
        "colab": {
          "base_uri": "https://localhost:8080/",
          "height": 128
        }
      },
      "source": [
        "classes = [\n",
        "    'walking',\n",
        "    'jogging',\n",
        "    'running',\n",
        "    'boxing',\n",
        "    'handwaving',\n",
        "    'handclapping',\n",
        "]\n",
        "\n",
        "dataset = []\n",
        "data_root = './'\n",
        "for cls in classes:\n",
        "    print('Processing class: {}'.format(cls))\n",
        "    for fpath in glob.glob(os.path.join(data_root, cls, '*.avi')):\n",
        "        cls_idx = classes.index(cls)\n",
        "        dataset.append((fpath, cls_idx))"
      ],
      "execution_count": 4,
      "outputs": [
        {
          "output_type": "stream",
          "text": [
            "Processing class: walking\n",
            "Processing class: jogging\n",
            "Processing class: running\n",
            "Processing class: boxing\n",
            "Processing class: handwaving\n",
            "Processing class: handclapping\n"
          ],
          "name": "stdout"
        }
      ]
    },
    {
      "cell_type": "code",
      "metadata": {
        "id": "9rTfZbJCHWIq",
        "colab_type": "code",
        "outputId": "02c0154b-b699-4f25-fb44-9206105ef771",
        "colab": {
          "base_uri": "https://localhost:8080/",
          "height": 35
        }
      },
      "source": [
        "SUBSET_LEN = 200\n",
        "random.shuffle(dataset)\n",
        "dataset = dataset[:SUBSET_LEN]\n",
        "\n",
        "print('Dataset samples (subset):', len(dataset))"
      ],
      "execution_count": 10,
      "outputs": [
        {
          "output_type": "stream",
          "text": [
            "Dataset samples (subset): 200\n"
          ],
          "name": "stdout"
        }
      ]
    },
    {
      "cell_type": "markdown",
      "metadata": {
        "id": "DPjO49AeIsOV",
        "colab_type": "text"
      },
      "source": [
        "посмотрим на размеры наших видеофайлов"
      ]
    },
    {
      "cell_type": "code",
      "metadata": {
        "id": "hffCTm0lHU8k",
        "colab_type": "code",
        "outputId": "340179ab-695a-472c-8270-d082fc4a0467",
        "colab": {
          "base_uri": "https://localhost:8080/",
          "height": 54
        }
      },
      "source": [
        "%%time\n",
        "shapes = []\n",
        "for i in range(len(dataset)):\n",
        "    videodata = skvideo.io.vread(dataset[i][0])\n",
        "    shapes.append(videodata.shape)"
      ],
      "execution_count": 11,
      "outputs": [
        {
          "output_type": "stream",
          "text": [
            "CPU times: user 4.66 s, sys: 4.93 s, total: 9.59 s\n",
            "Wall time: 43.6 s\n"
          ],
          "name": "stdout"
        }
      ]
    },
    {
      "cell_type": "code",
      "metadata": {
        "id": "InNEA97lIJOk",
        "colab_type": "code",
        "outputId": "0c186c38-1b2e-4ac5-8662-971d964806cf",
        "colab": {
          "base_uri": "https://localhost:8080/",
          "height": 72
        }
      },
      "source": [
        "print('Всего файлов {}\\nМинимальное количество кадров {}\\nМаксимальное количетво кадров {}'.format(len(shapes),sorted(shapes)[0][0], sorted(shapes)[-1][0]))"
      ],
      "execution_count": 12,
      "outputs": [
        {
          "output_type": "stream",
          "text": [
            "Всего файлов 200\n",
            "Минимальное количество кадров 230\n",
            "Максимальное количетво кадров 888\n"
          ],
          "name": "stdout"
        }
      ]
    },
    {
      "cell_type": "markdown",
      "metadata": {
        "id": "ic0CKdfNJ85N",
        "colab_type": "text"
      },
      "source": [
        "как мы видим - у нас разное количество кадров в роликах, есть совсем маленькие, есть совсем большие"
      ]
    },
    {
      "cell_type": "markdown",
      "metadata": {
        "id": "pdzyV74nNuUz",
        "colab_type": "text"
      },
      "source": [
        "итак, что мы сделаем: мы возьмем ролики и повторим каждый из них до максимального количества кадров"
      ]
    },
    {
      "cell_type": "code",
      "metadata": {
        "id": "UqxfeOQ8DcqJ",
        "colab_type": "code",
        "colab": {}
      },
      "source": [
        "# MAX_FRAMES = sorted(shapes)[-1][0]\n",
        "MAX_FRAMES = 600"
      ],
      "execution_count": 0,
      "outputs": []
    },
    {
      "cell_type": "markdown",
      "metadata": {
        "id": "Aj5EzDKzD1rC",
        "colab_type": "text"
      },
      "source": [
        "Напишем функцию, которая будет повторять ролик сам в себя до необходимого нам количества раз"
      ]
    },
    {
      "cell_type": "code",
      "metadata": {
        "id": "qslHQL1FEBWo",
        "colab_type": "code",
        "colab": {}
      },
      "source": [
        "def reshape_(np_video):\n",
        "  tmp = np_video.copy()\n",
        "  # если количество кадров в видео меньше максимального\n",
        "  if np_video.shape[0] < MAX_FRAMES:\n",
        "    # то определяем сколко раз надо повторить операцию vstack\n",
        "    num_iter = round(MAX_FRAMES / np_video.shape[0]) + 1\n",
        "    # создаем временный файл, в котором будем хранить повторы\n",
        "    tmp = np_video.copy()\n",
        "    # стакаем необходимое количество раз\n",
        "    for iterations in range(num_iter):\n",
        "      tmp = np.vstack((tmp, np_video))\n",
        "      if tmp.shape[0] > MAX_FRAMES:\n",
        "        break\n",
        "    # так как мы повторяли ролик сам в себя несколько раз, то его длина может быть больше чем необходимая\n",
        "    # поэтому возьмем только необходимое нам количество кадров\n",
        "    tmp = tmp[:MAX_FRAMES, ...]\n",
        "  return tmp"
      ],
      "execution_count": 0,
      "outputs": []
    },
    {
      "cell_type": "markdown",
      "metadata": {
        "id": "zRc7nqSyEyRd",
        "colab_type": "text"
      },
      "source": [
        "Теперь преобразуем каждый ролик до нужного нам размера и запишем его"
      ]
    },
    {
      "cell_type": "code",
      "metadata": {
        "id": "_0cJmLYMEEy1",
        "colab_type": "code",
        "outputId": "3fb2477a-dc72-4749-b451-1fd9ccd9b6d6",
        "colab": {
          "base_uri": "https://localhost:8080/",
          "height": 67,
          "referenced_widgets": [
            "511b68366a884c0ca60621d3ae794217",
            "2667d5fe0d0e4f6887bd226c6ace7f26",
            "a21f5ae54bef477697e02542cc242593",
            "f3c4c0f893734ac49f04e2c9abed80b1",
            "19dfc65b363a489687d368d87f89af51",
            "97d3efb52c5c48bcac5258fcbe6a7973",
            "88d0ac28a7d042f9a2dd76e4cd832279",
            "3532b31e12434eb7b05b49badf4ba144"
          ]
        }
      },
      "source": [
        "if 1:\n",
        "  for data in tqdm(dataset):\n",
        "    path = data[0][:-3]\n",
        "    np_video = skvideo.io.vread(data[0])\n",
        "    new_video = reshape_(np_video)\n",
        "    skvideo.io.vwrite(path + \"mp4\", new_video)"
      ],
      "execution_count": 15,
      "outputs": [
        {
          "output_type": "display_data",
          "data": {
            "application/vnd.jupyter.widget-view+json": {
              "model_id": "511b68366a884c0ca60621d3ae794217",
              "version_minor": 0,
              "version_major": 2
            },
            "text/plain": [
              "HBox(children=(IntProgress(value=0, max=200), HTML(value='')))"
            ]
          },
          "metadata": {
            "tags": []
          }
        },
        {
          "output_type": "stream",
          "text": [
            "\n"
          ],
          "name": "stdout"
        }
      ]
    },
    {
      "cell_type": "markdown",
      "metadata": {
        "id": "Uzb5NVfiHCIZ",
        "colab_type": "text"
      },
      "source": [
        "Теперь сделаем новый датасет"
      ]
    },
    {
      "cell_type": "code",
      "metadata": {
        "id": "M9ZJvnpiHFhV",
        "colab_type": "code",
        "outputId": "e9df6a9a-a15a-4f84-d401-e7f2ac40327c",
        "colab": {
          "base_uri": "https://localhost:8080/",
          "height": 128
        }
      },
      "source": [
        "dataset = []\n",
        "data_root = './'\n",
        "for cls in classes:\n",
        "    print('Processing class: {}'.format(cls))\n",
        "    for fpath in glob.glob(os.path.join(data_root, cls, '*.mp4')):\n",
        "        cls_idx = classes.index(cls)\n",
        "        dataset.append((fpath, cls_idx))"
      ],
      "execution_count": 16,
      "outputs": [
        {
          "output_type": "stream",
          "text": [
            "Processing class: walking\n",
            "Processing class: jogging\n",
            "Processing class: running\n",
            "Processing class: boxing\n",
            "Processing class: handwaving\n",
            "Processing class: handclapping\n"
          ],
          "name": "stdout"
        }
      ]
    },
    {
      "cell_type": "code",
      "metadata": {
        "id": "qDv07lZhDctH",
        "colab_type": "code",
        "outputId": "1c5d8927-4295-49d8-d0dd-94133f826f0a",
        "colab": {
          "base_uri": "https://localhost:8080/",
          "height": 54
        }
      },
      "source": [
        "%%time\n",
        "shapes = []\n",
        "for i in range(len(dataset)):\n",
        "    videodata = skvideo.io.vread(dataset[i][0])\n",
        "    shapes.append(videodata.shape)"
      ],
      "execution_count": 17,
      "outputs": [
        {
          "output_type": "stream",
          "text": [
            "CPU times: user 7.05 s, sys: 7.75 s, total: 14.8 s\n",
            "Wall time: 1min 4s\n"
          ],
          "name": "stdout"
        }
      ]
    },
    {
      "cell_type": "code",
      "metadata": {
        "id": "nvJFa86IKeqd",
        "colab_type": "code",
        "outputId": "e0a6667a-4a8e-4e6d-b17c-2cfb7e742975",
        "colab": {
          "base_uri": "https://localhost:8080/",
          "height": 72
        }
      },
      "source": [
        "print('Всего файлов {}\\nМинимальное количество кадров {}\\nМаксимальное количетво кадров {}'.format(len(shapes),sorted(shapes)[0][0], sorted(shapes)[-1][0]))"
      ],
      "execution_count": 18,
      "outputs": [
        {
          "output_type": "stream",
          "text": [
            "Всего файлов 200\n",
            "Минимальное количество кадров 600\n",
            "Максимальное количетво кадров 888\n"
          ],
          "name": "stdout"
        }
      ]
    },
    {
      "cell_type": "markdown",
      "metadata": {
        "id": "H6iKJcJjKqoI",
        "colab_type": "text"
      },
      "source": [
        "Ну вот, чего мы собственно и добивались"
      ]
    },
    {
      "cell_type": "markdown",
      "metadata": {
        "id": "xKecX592UCxv",
        "colab_type": "text"
      },
      "source": [
        "## Визуализация кадра из видео"
      ]
    },
    {
      "cell_type": "code",
      "metadata": {
        "id": "SDRvDuY5VEKT",
        "colab_type": "code",
        "outputId": "86039e33-a128-4a8b-c9ca-7f5c1269385d",
        "colab": {
          "base_uri": "https://localhost:8080/",
          "height": 286
        }
      },
      "source": [
        "videodata = skvideo.io.vread(dataset[0][0])\n",
        "videodata = videodata.astype(np.float32) / 255.\n",
        "print('videodata shape:', videodata.shape)\n",
        "plt.imshow(videodata[50, ...]);"
      ],
      "execution_count": 19,
      "outputs": [
        {
          "output_type": "stream",
          "text": [
            "videodata shape: (888, 120, 160, 3)\n"
          ],
          "name": "stdout"
        },
        {
          "output_type": "display_data",
          "data": {
            "image/png": "[encoded data removed]",
            "text/plain": [
              "<Figure size 432x288 with 1 Axes>"
            ]
          },
          "metadata": {
            "tags": [],
            "needs_background": "light"
          }
        }
      ]
    },
    {
      "cell_type": "markdown",
      "metadata": {
        "id": "ZvDqIgDKUHfj",
        "colab_type": "text"
      },
      "source": [
        "## Визуализация \"движения\""
      ]
    },
    {
      "cell_type": "code",
      "metadata": {
        "id": "n3y0fPuExC_q",
        "colab_type": "code",
        "outputId": "f252455d-eae6-4d37-cd94-f1ab3980eec4",
        "colab": {
          "base_uri": "https://localhost:8080/",
          "height": 305
        }
      },
      "source": [
        "motion = np.mean(videodata[1:, ...] - videodata[:-1, ...], axis=3, keepdims=True)\n",
        "print('motion shape:', motion.shape)\n",
        "plt.imshow(motion[50, ..., 0])"
      ],
      "execution_count": 20,
      "outputs": [
        {
          "output_type": "stream",
          "text": [
            "motion shape: (887, 120, 160, 1)\n"
          ],
          "name": "stdout"
        },
        {
          "output_type": "execute_result",
          "data": {
            "text/plain": [
              "<matplotlib.image.AxesImage at 0x7f9798d5b240>"
            ]
          },
          "metadata": {
            "tags": []
          },
          "execution_count": 20
        },
        {
          "output_type": "display_data",
          "data": {
            "image/png": "[encoded data removed]",
            "text/plain": [
              "<Figure size 432x288 with 1 Axes>"
            ]
          },
          "metadata": {
            "tags": [],
            "needs_background": "light"
          }
        }
      ]
    },
    {
      "cell_type": "markdown",
      "metadata": {
        "id": "zFFlcSY83rHa",
        "colab_type": "text"
      },
      "source": [
        "# Создание датасета"
      ]
    },
    {
      "cell_type": "code",
      "metadata": {
        "id": "g-2vK7h4qDdt",
        "colab_type": "code",
        "colab": {
          "base_uri": "https://localhost:8080/",
          "height": 128
        },
        "outputId": "9febcfe8-9e21-4f29-85e9-8087c9c68f1a"
      },
      "source": [
        "paths_ = []\n",
        "labels_ = []\n",
        "\n",
        "data_root = './'\n",
        "for cls in classes:\n",
        "    print('Processing class: {}'.format(cls))\n",
        "    for fpath in glob.glob(os.path.join(data_root, cls, '*.mp4')):\n",
        "        cls_idx = classes.index(cls)\n",
        "        paths_.append(fpath)\n",
        "        labels_.append(cls_idx)"
      ],
      "execution_count": 5,
      "outputs": [
        {
          "output_type": "stream",
          "text": [
            "Processing class: walking\n",
            "Processing class: jogging\n",
            "Processing class: running\n",
            "Processing class: boxing\n",
            "Processing class: handwaving\n",
            "Processing class: handclapping\n"
          ],
          "name": "stdout"
        }
      ]
    },
    {
      "cell_type": "markdown",
      "metadata": {
        "id": "9AaS714WmajB",
        "colab_type": "text"
      },
      "source": [
        "Создадим функцию, которая бует считывать в датасет видеофайлы"
      ]
    },
    {
      "cell_type": "code",
      "metadata": {
        "id": "4eOXV8PWmZzp",
        "colab_type": "code",
        "colab": {}
      },
      "source": [
        "def read_(fpath):\n",
        "  video_to_np = skvideo.io.vread(fpath.numpy().decode())\n",
        "  video_to_np = tf.cast(video_to_np, tf.float32) / 255\n",
        "  return video_to_np"
      ],
      "execution_count": 0,
      "outputs": []
    },
    {
      "cell_type": "code",
      "metadata": {
        "id": "wW2erw7Prw7Y",
        "colab_type": "code",
        "colab": {}
      },
      "source": [
        "def tf_item_to_data(path, label):\n",
        "    videodata = tf.py_function(read_, [path], [tf.float32])\n",
        "    return videodata, label"
      ],
      "execution_count": 0,
      "outputs": []
    },
    {
      "cell_type": "code",
      "metadata": {
        "id": "yCSsJL8Np1j4",
        "colab_type": "code",
        "colab": {}
      },
      "source": [
        "import random\n",
        "\n",
        "tmp_list = list(zip(paths_, labels_))\n",
        "random.shuffle(tmp_list)\n",
        "\n",
        "paths_, labels_ = zip(*tmp_list)\n",
        "\n",
        "train_len = int(len(paths_) * 0.9)\n",
        "\n",
        "paths_train = list(paths_[:train_len])\n",
        "labels_train = list(labels_[:train_len])\n",
        "\n",
        "paths_test = list(paths_[train_len:])\n",
        "labels_test = list(labels_[train_len:])"
      ],
      "execution_count": 0,
      "outputs": []
    },
    {
      "cell_type": "code",
      "metadata": {
        "id": "XJewEXlO3zfx",
        "colab_type": "code",
        "colab": {}
      },
      "source": [
        "BATCH_SIZE = 1\n",
        "NUM_EPOCHS = 10"
      ],
      "execution_count": 0,
      "outputs": []
    },
    {
      "cell_type": "code",
      "metadata": {
        "id": "Ieq8X4n1pH8B",
        "colab_type": "code",
        "colab": {}
      },
      "source": [
        "train_ds = tf.data.Dataset.from_tensor_slices((paths_train, labels_train))"
      ],
      "execution_count": 0,
      "outputs": []
    },
    {
      "cell_type": "code",
      "metadata": {
        "id": "JWpjrFoTp1-x",
        "colab_type": "code",
        "colab": {}
      },
      "source": [
        "test_ds = tf.data.Dataset.from_tensor_slices((paths_test, labels_test))"
      ],
      "execution_count": 0,
      "outputs": []
    },
    {
      "cell_type": "code",
      "metadata": {
        "id": "QYcKR-BI35Lx",
        "colab_type": "code",
        "colab": {
          "base_uri": "https://localhost:8080/",
          "height": 54
        },
        "outputId": "f6e895bc-ae94-41af-cc44-bccb77700059"
      },
      "source": [
        "%%time\n",
        "train_ds = train_ds.map(tf_item_to_data)\n",
        "train_ds = train_ds.shuffle(buffer_size=1000)\n",
        "train_ds = train_ds.repeat(NUM_EPOCHS)\n",
        "# train_ds = train_ds.batch(BATCH_SIZE)"
      ],
      "execution_count": 12,
      "outputs": [
        {
          "output_type": "stream",
          "text": [
            "CPU times: user 73.8 ms, sys: 0 ns, total: 73.8 ms\n",
            "Wall time: 106 ms\n"
          ],
          "name": "stdout"
        }
      ]
    },
    {
      "cell_type": "code",
      "metadata": {
        "id": "6QRIcsLInm0i",
        "colab_type": "code",
        "colab": {
          "base_uri": "https://localhost:8080/",
          "height": 54
        },
        "outputId": "2a59bb6c-d19f-4d2e-cb93-42df37ee69c8"
      },
      "source": [
        "%%time\n",
        "test_ds = test_ds.map(tf_item_to_data)\n",
        "test_ds = test_ds.shuffle(buffer_size=1000)\n",
        "# test_ds = test_ds.batch(BATCH_SIZE)"
      ],
      "execution_count": 13,
      "outputs": [
        {
          "output_type": "stream",
          "text": [
            "CPU times: user 7.19 ms, sys: 3.73 ms, total: 10.9 ms\n",
            "Wall time: 9.32 ms\n"
          ],
          "name": "stdout"
        }
      ]
    },
    {
      "cell_type": "code",
      "metadata": {
        "id": "TObcBZtCnm5y",
        "colab_type": "code",
        "colab": {}
      },
      "source": [
        ""
      ],
      "execution_count": 0,
      "outputs": []
    },
    {
      "cell_type": "markdown",
      "metadata": {
        "id": "0CgVQgCttHSp",
        "colab_type": "text"
      },
      "source": [
        "# Создание модели"
      ]
    },
    {
      "cell_type": "code",
      "metadata": {
        "id": "fUT9ZNw74H91",
        "colab_type": "code",
        "colab": {}
      },
      "source": [
        "def build_model():\n",
        "\n",
        "  x = tf.keras.layers.Input((None, None, None, 1))\n",
        "\n",
        "  out1 = tf.keras.layers.Conv3D(32, (5, 5, 5), (1, 2, 2), padding='same', activation='relu')(x)\n",
        "  out1 = tf.keras.layers.MaxPool3D((1, 2, 2), padding='same')(out1)\n",
        "  out1 = tf.keras.layers.Conv3D(64, (5, 5, 5), (1, 2, 2), padding='same', activation='relu')(out1)\n",
        "  out1 = tf.keras.layers.MaxPool3D((1, 2, 2), padding='same')(out1)\n",
        "  out1 = tf.keras.layers.Conv3D(64, (3, 3, 3), (1, 2, 2), padding='same', activation='relu')(out1)\n",
        "  out1 = tf.keras.layers.MaxPool3D((1, 2, 2), padding='same')(out1)\n",
        "  out1 = tf.keras.layers.Conv3D(64, (3, 3, 3), (1, 1, 1), padding='same', activation=None)(out1)\n",
        "  out1 = tf.keras.layers.GlobalAveragePooling3D()(out1)\n",
        "  out1 = tf.keras.layers.Dense(64, activation='relu')(out1)\n",
        "  out1 = tf.keras.layers.Dense(6, activation=None)(out1)\n",
        "\n",
        "  return tf.keras.Model(inputs=x, outputs=out1)\n"
      ],
      "execution_count": 0,
      "outputs": []
    },
    {
      "cell_type": "code",
      "metadata": {
        "id": "505Bc82Q3089",
        "colab_type": "code",
        "colab": {}
      },
      "source": [
        "model = build_model()"
      ],
      "execution_count": 0,
      "outputs": []
    },
    {
      "cell_type": "code",
      "metadata": {
        "id": "3BLN3e074DlI",
        "colab_type": "code",
        "colab": {
          "base_uri": "https://localhost:8080/",
          "height": 571
        },
        "outputId": "2ecb6d8f-72c0-4b17-f02f-dc869848f979"
      },
      "source": [
        "model.summary()"
      ],
      "execution_count": 16,
      "outputs": [
        {
          "output_type": "stream",
          "text": [
            "Model: \"model\"\n",
            "_________________________________________________________________\n",
            "Layer (type)                 Output Shape              Param #   \n",
            "=================================================================\n",
            "input_1 (InputLayer)         [(None, None, None, None, 0         \n",
            "_________________________________________________________________\n",
            "conv3d (Conv3D)              (None, None, None, None,  4032      \n",
            "_________________________________________________________________\n",
            "max_pooling3d (MaxPooling3D) (None, None, None, None,  0         \n",
            "_________________________________________________________________\n",
            "conv3d_1 (Conv3D)            (None, None, None, None,  256064    \n",
            "_________________________________________________________________\n",
            "max_pooling3d_1 (MaxPooling3 (None, None, None, None,  0         \n",
            "_________________________________________________________________\n",
            "conv3d_2 (Conv3D)            (None, None, None, None,  110656    \n",
            "_________________________________________________________________\n",
            "max_pooling3d_2 (MaxPooling3 (None, None, None, None,  0         \n",
            "_________________________________________________________________\n",
            "conv3d_3 (Conv3D)            (None, None, None, None,  110656    \n",
            "_________________________________________________________________\n",
            "global_average_pooling3d (Gl (None, 64)                0         \n",
            "_________________________________________________________________\n",
            "dense (Dense)                (None, 64)                4160      \n",
            "_________________________________________________________________\n",
            "dense_1 (Dense)              (None, 6)                 390       \n",
            "=================================================================\n",
            "Total params: 485,958\n",
            "Trainable params: 485,958\n",
            "Non-trainable params: 0\n",
            "_________________________________________________________________\n"
          ],
          "name": "stdout"
        }
      ]
    },
    {
      "cell_type": "code",
      "metadata": {
        "id": "riRCngfctLyP",
        "colab_type": "code",
        "colab": {}
      },
      "source": [
        "LEARNING_RATE = 0.001\n",
        "\n",
        "model.compile(\n",
        "    loss=tf.keras.losses.SparseCategoricalCrossentropy(from_logits=True), \n",
        "    optimizer=tf.keras.optimizers.Adam(LEARNING_RATE))"
      ],
      "execution_count": 0,
      "outputs": []
    },
    {
      "cell_type": "code",
      "metadata": {
        "id": "-9agfq_nuD6A",
        "colab_type": "code",
        "colab": {}
      },
      "source": [
        "tensorboard_callback = tf.keras.callbacks.TensorBoard(\n",
        "    log_dir = 'logs/my_model_batch1_all200',\n",
        "    write_graph=False, \n",
        "    update_freq=100,\n",
        "    profile_batch=0\n",
        ")"
      ],
      "execution_count": 0,
      "outputs": []
    },
    {
      "cell_type": "code",
      "metadata": {
        "id": "XjugxI9huD-O",
        "colab_type": "code",
        "colab": {
          "base_uri": "https://localhost:8080/",
          "height": 35
        },
        "outputId": "5dc2e1d5-aca3-4b7e-b00d-ecb7e2f9937f"
      },
      "source": [
        "%%time\n",
        "\n",
        "history = model.fit(\n",
        "    train_ds,\n",
        "    epochs=NUM_EPOCHS,\n",
        "    # validation_data=test_ds,\n",
        "    callbacks=[tensorboard_callback]\n",
        ")"
      ],
      "execution_count": 0,
      "outputs": [
        {
          "output_type": "stream",
          "text": [
            "Epoch 1/10\n"
          ],
          "name": "stdout"
        }
      ]
    },
    {
      "cell_type": "code",
      "metadata": {
        "id": "2czP6BO5_ym9",
        "colab_type": "code",
        "colab": {}
      },
      "source": [
        "writer = tf.summary.create_file_writer('logs/exp1')"
      ],
      "execution_count": 0,
      "outputs": []
    },
    {
      "cell_type": "code",
      "metadata": {
        "id": "geX1Is2quD8t",
        "colab_type": "code",
        "colab": {}
      },
      "source": [
        "\n",
        "\n",
        "%%time\n",
        "\n",
        "import time\n",
        "\n",
        "global_step = 0\n",
        "\n",
        "best_loss = 999999999.9\n",
        "\n",
        "EPOCHS = 20\n",
        "\n",
        "st_time = time.time()\n",
        "for epoch in range(EPOCHS):\n",
        "    print(\"|\"*70,\"\\nTime from prev epoch: %.3f seconds\" % (time.time() - st_time), flush=True)\n",
        "    print(\"|\"*70, flush=True)\n",
        "    st_time = time.time()\n",
        "    \n",
        "    for i, batch in enumerate(train_ds):\n",
        "        loss_value = model.train_on_batch(x=batch[0], y=batch[1])\n",
        "\n",
        "        if i % 1 == 0:\n",
        "            print(\"Epoch #%d\" % epoch, \"#%d/%d;\" % (i, len(paths_train)), \"Loss: %.10f\" % loss_value, flush=True)\n",
        "            with writer.as_default():\n",
        "                tf.summary.scalar('loss', loss_value, global_step)\n",
        "                \n",
        "        if loss_value < best_loss:\n",
        "            print(\"=\"*50, flush=True)\n",
        "            print(\"New best loss. Save model\", flush=True)\n",
        "            print(\"Epoch #%d\" % epoch, \"#%d/%d;\" % (i, len(paths_train)), \"Loss: %.10f\" % loss_value, flush=True)\n",
        "            print(\"=\"*50, flush=True)\n",
        "            best_loss = loss_value\n",
        "            model.save(\"best_model.h5\")\n",
        "            with open(\"best_loss.txt\", \"wt\") as best_loss_file:\n",
        "                best_loss_file.write(\"Best loss value: %.10f\\n\" % loss_value)\n",
        "                best_loss_file.write(\"Epoch: %d\\n\" % epoch)\n",
        "                best_loss_file.write(\"i: %d\\n\" % i)\n",
        "            with writer.as_default():\n",
        "                tf.summary.scalar('loss', loss_value, global_step)\n",
        "        \n",
        "        global_step += 1\n",
        "\n"
      ],
      "execution_count": 0,
      "outputs": []
    },
    {
      "cell_type": "code",
      "metadata": {
        "id": "RzvkngVptL06",
        "colab_type": "code",
        "colab": {}
      },
      "source": [
        ""
      ],
      "execution_count": 0,
      "outputs": []
    },
    {
      "cell_type": "code",
      "metadata": {
        "id": "QUuSOrhktL4Y",
        "colab_type": "code",
        "colab": {}
      },
      "source": [
        ""
      ],
      "execution_count": 0,
      "outputs": []
    },
    {
      "cell_type": "code",
      "metadata": {
        "id": "ttVl1YT8tL71",
        "colab_type": "code",
        "colab": {}
      },
      "source": [
        ""
      ],
      "execution_count": 0,
      "outputs": []
    },
    {
      "cell_type": "markdown",
      "metadata": {
        "id": "ItBo69m2NLG4",
        "colab_type": "text"
      },
      "source": [
        "# Сегодня доделаю\n"
      ]
    }
  ]
}
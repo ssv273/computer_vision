{
  "nbformat": 4,
  "nbformat_minor": 0,
  "metadata": {
    "colab": {
      "name": "HW_07.ipynb",
      "provenance": [],
      "collapsed_sections": [],
      "machine_shape": "hm",
      "include_colab_link": true
    },
    "language_info": {
      "codemirror_mode": {
        "name": "ipython",
        "version": 3
      },
      "file_extension": ".py",
      "mimetype": "text/x-python",
      "name": "python",
      "nbconvert_exporter": "python",
      "pygments_lexer": "ipython3",
      "version": "3.7.1"
    },
    "kernelspec": {
      "name": "python3",
      "display_name": "Python 3"
    },
    "widgets": {
      "application/vnd.jupyter.widget-state+json": {
        "28fc4bfd8cf240d29454d4ca8f6611e3": {
          "model_module": "@jupyter-widgets/controls",
          "model_name": "HBoxModel",
          "state": {
            "_view_name": "HBoxView",
            "_dom_classes": [],
            "_model_name": "HBoxModel",
            "_view_module": "@jupyter-widgets/controls",
            "_model_module_version": "1.5.0",
            "_view_count": null,
            "_view_module_version": "1.5.0",
            "box_style": "",
            "layout": "IPY_MODEL_89fd08ff2cc64debabb1a96925a6c012",
            "_model_module": "@jupyter-widgets/controls",
            "children": [
              "IPY_MODEL_85253abb7d8147feaa91bb0327b52feb",
              "IPY_MODEL_575b4a08d0734add959fe8bdc46c55be"
            ]
          }
        },
        "89fd08ff2cc64debabb1a96925a6c012": {
          "model_module": "@jupyter-widgets/base",
          "model_name": "LayoutModel",
          "state": {
            "_view_name": "LayoutView",
            "grid_template_rows": null,
            "right": null,
            "justify_content": null,
            "_view_module": "@jupyter-widgets/base",
            "overflow": null,
            "_model_module_version": "1.2.0",
            "_view_count": null,
            "flex_flow": null,
            "width": null,
            "min_width": null,
            "border": null,
            "align_items": null,
            "bottom": null,
            "_model_module": "@jupyter-widgets/base",
            "top": null,
            "grid_column": null,
            "overflow_y": null,
            "overflow_x": null,
            "grid_auto_flow": null,
            "grid_area": null,
            "grid_template_columns": null,
            "flex": null,
            "_model_name": "LayoutModel",
            "justify_items": null,
            "grid_row": null,
            "max_height": null,
            "align_content": null,
            "visibility": null,
            "align_self": null,
            "height": null,
            "min_height": null,
            "padding": null,
            "grid_auto_rows": null,
            "grid_gap": null,
            "max_width": null,
            "order": null,
            "_view_module_version": "1.2.0",
            "grid_template_areas": null,
            "object_position": null,
            "object_fit": null,
            "grid_auto_columns": null,
            "margin": null,
            "display": null,
            "left": null
          }
        },
        "85253abb7d8147feaa91bb0327b52feb": {
          "model_module": "@jupyter-widgets/controls",
          "model_name": "IntProgressModel",
          "state": {
            "_view_name": "ProgressView",
            "style": "IPY_MODEL_4a36aba49bc4441da9e98a0d4c033524",
            "_dom_classes": [],
            "description": "100%",
            "_model_name": "IntProgressModel",
            "bar_style": "success",
            "max": 200,
            "_view_module": "@jupyter-widgets/controls",
            "_model_module_version": "1.5.0",
            "value": 200,
            "_view_count": null,
            "_view_module_version": "1.5.0",
            "orientation": "horizontal",
            "min": 0,
            "description_tooltip": null,
            "_model_module": "@jupyter-widgets/controls",
            "layout": "IPY_MODEL_da943502e1864b80acc60827056946aa"
          }
        },
        "575b4a08d0734add959fe8bdc46c55be": {
          "model_module": "@jupyter-widgets/controls",
          "model_name": "HTMLModel",
          "state": {
            "_view_name": "HTMLView",
            "style": "IPY_MODEL_2aab2d1a196147aba43d5b38cb013c9c",
            "_dom_classes": [],
            "description": "",
            "_model_name": "HTMLModel",
            "placeholder": "​",
            "_view_module": "@jupyter-widgets/controls",
            "_model_module_version": "1.5.0",
            "value": " 200/200 [13:36&lt;00:00,  4.08s/it]",
            "_view_count": null,
            "_view_module_version": "1.5.0",
            "description_tooltip": null,
            "_model_module": "@jupyter-widgets/controls",
            "layout": "IPY_MODEL_4273cd07d9fc46888038c396637b625f"
          }
        },
        "4a36aba49bc4441da9e98a0d4c033524": {
          "model_module": "@jupyter-widgets/controls",
          "model_name": "ProgressStyleModel",
          "state": {
            "_view_name": "StyleView",
            "_model_name": "ProgressStyleModel",
            "description_width": "initial",
            "_view_module": "@jupyter-widgets/base",
            "_model_module_version": "1.5.0",
            "_view_count": null,
            "_view_module_version": "1.2.0",
            "bar_color": null,
            "_model_module": "@jupyter-widgets/controls"
          }
        },
        "da943502e1864b80acc60827056946aa": {
          "model_module": "@jupyter-widgets/base",
          "model_name": "LayoutModel",
          "state": {
            "_view_name": "LayoutView",
            "grid_template_rows": null,
            "right": null,
            "justify_content": null,
            "_view_module": "@jupyter-widgets/base",
            "overflow": null,
            "_model_module_version": "1.2.0",
            "_view_count": null,
            "flex_flow": null,
            "width": null,
            "min_width": null,
            "border": null,
            "align_items": null,
            "bottom": null,
            "_model_module": "@jupyter-widgets/base",
            "top": null,
            "grid_column": null,
            "overflow_y": null,
            "overflow_x": null,
            "grid_auto_flow": null,
            "grid_area": null,
            "grid_template_columns": null,
            "flex": null,
            "_model_name": "LayoutModel",
            "justify_items": null,
            "grid_row": null,
            "max_height": null,
            "align_content": null,
            "visibility": null,
            "align_self": null,
            "height": null,
            "min_height": null,
            "padding": null,
            "grid_auto_rows": null,
            "grid_gap": null,
            "max_width": null,
            "order": null,
            "_view_module_version": "1.2.0",
            "grid_template_areas": null,
            "object_position": null,
            "object_fit": null,
            "grid_auto_columns": null,
            "margin": null,
            "display": null,
            "left": null
          }
        },
        "2aab2d1a196147aba43d5b38cb013c9c": {
          "model_module": "@jupyter-widgets/controls",
          "model_name": "DescriptionStyleModel",
          "state": {
            "_view_name": "StyleView",
            "_model_name": "DescriptionStyleModel",
            "description_width": "",
            "_view_module": "@jupyter-widgets/base",
            "_model_module_version": "1.5.0",
            "_view_count": null,
            "_view_module_version": "1.2.0",
            "_model_module": "@jupyter-widgets/controls"
          }
        },
        "4273cd07d9fc46888038c396637b625f": {
          "model_module": "@jupyter-widgets/base",
          "model_name": "LayoutModel",
          "state": {
            "_view_name": "LayoutView",
            "grid_template_rows": null,
            "right": null,
            "justify_content": null,
            "_view_module": "@jupyter-widgets/base",
            "overflow": null,
            "_model_module_version": "1.2.0",
            "_view_count": null,
            "flex_flow": null,
            "width": null,
            "min_width": null,
            "border": null,
            "align_items": null,
            "bottom": null,
            "_model_module": "@jupyter-widgets/base",
            "top": null,
            "grid_column": null,
            "overflow_y": null,
            "overflow_x": null,
            "grid_auto_flow": null,
            "grid_area": null,
            "grid_template_columns": null,
            "flex": null,
            "_model_name": "LayoutModel",
            "justify_items": null,
            "grid_row": null,
            "max_height": null,
            "align_content": null,
            "visibility": null,
            "align_self": null,
            "height": null,
            "min_height": null,
            "padding": null,
            "grid_auto_rows": null,
            "grid_gap": null,
            "max_width": null,
            "order": null,
            "_view_module_version": "1.2.0",
            "grid_template_areas": null,
            "object_position": null,
            "object_fit": null,
            "grid_auto_columns": null,
            "margin": null,
            "display": null,
            "left": null
          }
        }
      }
    }
  },
  "cells": [
    {
      "cell_type": "markdown",
      "metadata": {
        "id": "view-in-github",
        "colab_type": "text"
      },
      "source": [
        "<a href=\"https://colab.research.google.com/github/ssv273/computer_vision/blob/master/HW_07.ipynb\" target=\"_parent\"><img src=\"https://colab.research.google.com/assets/colab-badge.svg\" alt=\"Open In Colab\"/></a>"
      ]
    },
    {
      "cell_type": "markdown",
      "metadata": {
        "id": "y7c-vhTto-1_",
        "colab_type": "text"
      },
      "source": [
        "# Обработка видео\n",
        "Классификация действий по видео\n"
      ]
    },
    {
      "cell_type": "markdown",
      "metadata": {
        "id": "JH2ri2mQTU5s",
        "colab_type": "text"
      },
      "source": [
        "## Переключение версии TensorFlow"
      ]
    },
    {
      "cell_type": "code",
      "metadata": {
        "id": "cqhfvqRrugoS",
        "colab_type": "code",
        "colab": {}
      },
      "source": [
        "%tensorflow_version 2.x"
      ],
      "execution_count": 0,
      "outputs": []
    },
    {
      "cell_type": "code",
      "metadata": {
        "id": "iv4yU3Gb4MlY",
        "colab_type": "code",
        "colab": {}
      },
      "source": [
        "import os\n",
        "import glob\n",
        "import random\n",
        "import numpy as np\n",
        "import matplotlib.pyplot as plt\n",
        "\n",
        "import tensorflow as tf\n",
        "\n",
        "from tqdm.notebook import tqdm\n",
        "\n",
        "import gc\n"
      ],
      "execution_count": 0,
      "outputs": []
    },
    {
      "cell_type": "code",
      "metadata": {
        "id": "rEbPbpjIDV57",
        "colab_type": "code",
        "outputId": "b3459b29-06f7-4152-d450-54bba90cd723",
        "colab": {
          "base_uri": "https://localhost:8080/",
          "height": 185
        }
      },
      "source": [
        "if 1:\n",
        "    !pip install scikit-video==1.1.11\n",
        "import skvideo.io"
      ],
      "execution_count": 3,
      "outputs": [
        {
          "output_type": "stream",
          "text": [
            "Collecting scikit-video==1.1.11\n",
            "\u001b[?25l  Downloading https://files.pythonhosted.org/packages/b1/a6/c69cad508139a342810ae46e946ebb3256aa6e42f690d901bb68f50582e3/scikit_video-1.1.11-py2.py3-none-any.whl (2.3MB)\n",
            "\u001b[K     |████████████████████████████████| 2.3MB 3.3MB/s \n",
            "\u001b[?25hRequirement already satisfied: scipy in /usr/local/lib/python3.6/dist-packages (from scikit-video==1.1.11) (1.4.1)\n",
            "Requirement already satisfied: numpy in /usr/local/lib/python3.6/dist-packages (from scikit-video==1.1.11) (1.18.3)\n",
            "Requirement already satisfied: pillow in /usr/local/lib/python3.6/dist-packages (from scikit-video==1.1.11) (7.0.0)\n",
            "Installing collected packages: scikit-video\n",
            "Successfully installed scikit-video-1.1.11\n"
          ],
          "name": "stdout"
        }
      ]
    },
    {
      "cell_type": "markdown",
      "metadata": {
        "id": "gshnlHKETjEI",
        "colab_type": "text"
      },
      "source": [
        "## Загрузка и распаковка датасета KTH"
      ]
    },
    {
      "cell_type": "code",
      "metadata": {
        "id": "oUKrI6l_1CK_",
        "colab_type": "code",
        "colab": {
          "base_uri": "https://localhost:8080/",
          "height": 1000
        },
        "outputId": "104f3171-a697-4931-f0a1-72e9fcb09b22"
      },
      "source": [
        "if 1:\n",
        "    !wget http://www.nada.kth.se/cvap/actions/walking.zip\n",
        "    !wget http://www.nada.kth.se/cvap/actions/jogging.zip\n",
        "    !wget http://www.nada.kth.se/cvap/actions/running.zip\n",
        "    !wget http://www.nada.kth.se/cvap/actions/boxing.zip\n",
        "    !wget http://www.nada.kth.se/cvap/actions/handwaving.zip\n",
        "    !wget http://www.nada.kth.se/cvap/actions/handclapping.zip \n",
        "\n",
        "if 1:\n",
        "    !unzip walking.zip -d walking > /dev/null\n",
        "    !unzip jogging.zip -d jogging > /dev/null\n",
        "    !unzip running.zip -d running > /dev/null\n",
        "    !unzip boxing.zip -d boxing > /dev/null\n",
        "    !unzip handwaving.zip -d handwaving > /dev/null\n",
        "    !unzip handclapping.zip -d handclapping > /dev/null"
      ],
      "execution_count": 4,
      "outputs": [
        {
          "output_type": "stream",
          "text": [
            "--2020-05-03 01:21:39--  http://www.nada.kth.se/cvap/actions/walking.zip\n",
            "Resolving www.nada.kth.se (www.nada.kth.se)... 130.237.28.41, 2001:6b0:1:11c2::82ed:1c29\n",
            "Connecting to www.nada.kth.se (www.nada.kth.se)|130.237.28.41|:80... connected.\n",
            "HTTP request sent, awaiting response... 301 Moved Permanently\n",
            "Location: https://www.csc.kth.se/cvap/actions/walking.zip [following]\n",
            "--2020-05-03 01:21:40--  https://www.csc.kth.se/cvap/actions/walking.zip\n",
            "Resolving www.csc.kth.se (www.csc.kth.se)... 130.237.227.116\n",
            "Connecting to www.csc.kth.se (www.csc.kth.se)|130.237.227.116|:443... connected.\n",
            "HTTP request sent, awaiting response... 200 OK\n",
            "Length: unspecified [application/zip]\n",
            "Saving to: ‘walking.zip’\n",
            "\n",
            "walking.zip             [    <=>             ] 231.21M  7.97MB/s    in 32s     \n",
            "\n",
            "2020-05-03 01:22:12 (7.32 MB/s) - ‘walking.zip’ saved [242442411]\n",
            "\n",
            "--2020-05-03 01:22:14--  http://www.nada.kth.se/cvap/actions/jogging.zip\n",
            "Resolving www.nada.kth.se (www.nada.kth.se)... 130.237.28.41, 2001:6b0:1:11c2::82ed:1c29\n",
            "Connecting to www.nada.kth.se (www.nada.kth.se)|130.237.28.41|:80... connected.\n",
            "HTTP request sent, awaiting response... 301 Moved Permanently\n",
            "Location: https://www.csc.kth.se/cvap/actions/jogging.zip [following]\n",
            "--2020-05-03 01:22:14--  https://www.csc.kth.se/cvap/actions/jogging.zip\n",
            "Resolving www.csc.kth.se (www.csc.kth.se)... 130.237.227.116\n",
            "Connecting to www.csc.kth.se (www.csc.kth.se)|130.237.227.116|:443... connected.\n",
            "HTTP request sent, awaiting response... 200 OK\n",
            "Length: unspecified [application/zip]\n",
            "Saving to: ‘jogging.zip’\n",
            "\n",
            "jogging.zip             [ <=>                ] 161.13M  1.70MB/s    in 41s     \n",
            "\n",
            "2020-05-03 01:22:55 (3.94 MB/s) - ‘jogging.zip’ saved [168961290]\n",
            "\n",
            "--2020-05-03 01:22:56--  http://www.nada.kth.se/cvap/actions/running.zip\n",
            "Resolving www.nada.kth.se (www.nada.kth.se)... 130.237.28.41, 2001:6b0:1:11c2::82ed:1c29\n",
            "Connecting to www.nada.kth.se (www.nada.kth.se)|130.237.28.41|:80... connected.\n",
            "HTTP request sent, awaiting response... 301 Moved Permanently\n",
            "Location: https://www.csc.kth.se/cvap/actions/running.zip [following]\n",
            "--2020-05-03 01:22:57--  https://www.csc.kth.se/cvap/actions/running.zip\n",
            "Resolving www.csc.kth.se (www.csc.kth.se)... 130.237.227.116\n",
            "Connecting to www.csc.kth.se (www.csc.kth.se)|130.237.227.116|:443... connected.\n",
            "HTTP request sent, awaiting response... 200 OK\n",
            "Length: unspecified [application/zip]\n",
            "Saving to: ‘running.zip’\n",
            "\n",
            "running.zip             [                <=> ] 142.82M  8.12MB/s    in 21s     \n",
            "\n",
            "2020-05-03 01:23:18 (6.94 MB/s) - ‘running.zip’ saved [149756643]\n",
            "\n",
            "--2020-05-03 01:23:19--  http://www.nada.kth.se/cvap/actions/boxing.zip\n",
            "Resolving www.nada.kth.se (www.nada.kth.se)... 130.237.28.41, 2001:6b0:1:11c2::82ed:1c29\n",
            "Connecting to www.nada.kth.se (www.nada.kth.se)|130.237.28.41|:80... connected.\n",
            "HTTP request sent, awaiting response... 301 Moved Permanently\n",
            "Location: https://www.csc.kth.se/cvap/actions/boxing.zip [following]\n",
            "--2020-05-03 01:23:19--  https://www.csc.kth.se/cvap/actions/boxing.zip\n",
            "Resolving www.csc.kth.se (www.csc.kth.se)... 130.237.227.116\n",
            "Connecting to www.csc.kth.se (www.csc.kth.se)|130.237.227.116|:443... connected.\n",
            "HTTP request sent, awaiting response... 200 OK\n",
            "Length: unspecified [application/zip]\n",
            "Saving to: ‘boxing.zip’\n",
            "\n",
            "boxing.zip              [        <=>         ] 185.49M  7.81MB/s    in 27s     \n",
            "\n",
            "2020-05-03 01:23:46 (6.97 MB/s) - ‘boxing.zip’ saved [194498294]\n",
            "\n",
            "--2020-05-03 01:23:47--  http://www.nada.kth.se/cvap/actions/handwaving.zip\n",
            "Resolving www.nada.kth.se (www.nada.kth.se)... 130.237.28.41, 2001:6b0:1:11c2::82ed:1c29\n",
            "Connecting to www.nada.kth.se (www.nada.kth.se)|130.237.28.41|:80... connected.\n",
            "HTTP request sent, awaiting response... 301 Moved Permanently\n",
            "Location: https://www.csc.kth.se/cvap/actions/handwaving.zip [following]\n",
            "--2020-05-03 01:23:47--  https://www.csc.kth.se/cvap/actions/handwaving.zip\n",
            "Resolving www.csc.kth.se (www.csc.kth.se)... 130.237.227.116\n",
            "Connecting to www.csc.kth.se (www.csc.kth.se)|130.237.227.116|:443... connected.\n",
            "HTTP request sent, awaiting response... 200 OK\n",
            "Length: unspecified [application/zip]\n",
            "Saving to: ‘handwaving.zip’\n",
            "\n",
            "handwaving.zip          [              <=>   ] 208.84M  8.22MB/s    in 29s     \n",
            "\n",
            "2020-05-03 01:24:17 (7.23 MB/s) - ‘handwaving.zip’ saved [218981954]\n",
            "\n",
            "--2020-05-03 01:24:18--  http://www.nada.kth.se/cvap/actions/handclapping.zip\n",
            "Resolving www.nada.kth.se (www.nada.kth.se)... 130.237.28.41, 2001:6b0:1:11c2::82ed:1c29\n",
            "Connecting to www.nada.kth.se (www.nada.kth.se)|130.237.28.41|:80... connected.\n",
            "HTTP request sent, awaiting response... 301 Moved Permanently\n",
            "Location: https://www.csc.kth.se/cvap/actions/handclapping.zip [following]\n",
            "--2020-05-03 01:24:18--  https://www.csc.kth.se/cvap/actions/handclapping.zip\n",
            "Resolving www.csc.kth.se (www.csc.kth.se)... 130.237.227.116\n",
            "Connecting to www.csc.kth.se (www.csc.kth.se)|130.237.227.116|:443... connected.\n",
            "HTTP request sent, awaiting response... 200 OK\n",
            "Length: unspecified [application/zip]\n",
            "Saving to: ‘handclapping.zip’\n",
            "\n",
            "handclapping.zip        [<=>                 ] 168.71M  7.71MB/s    in 25s     \n",
            "\n",
            "2020-05-03 01:24:43 (6.87 MB/s) - ‘handclapping.zip’ saved [176901831]\n",
            "\n"
          ],
          "name": "stdout"
        }
      ]
    },
    {
      "cell_type": "code",
      "metadata": {
        "id": "vks_67SdJrHk",
        "colab_type": "code",
        "colab": {}
      },
      "source": [
        "!rm *.zip"
      ],
      "execution_count": 0,
      "outputs": []
    },
    {
      "cell_type": "markdown",
      "metadata": {
        "id": "z9xxQH9LTsll",
        "colab_type": "text"
      },
      "source": [
        "## Подготовка датасета для классификации"
      ]
    },
    {
      "cell_type": "code",
      "metadata": {
        "id": "xXx10w4T7JcT",
        "colab_type": "code",
        "outputId": "da9c0de3-0452-40a3-d294-e4db22596634",
        "colab": {
          "base_uri": "https://localhost:8080/",
          "height": 128
        }
      },
      "source": [
        "classes = [\n",
        "    'walking',\n",
        "    'jogging',\n",
        "    'running',\n",
        "    'boxing',\n",
        "    'handwaving',\n",
        "    'handclapping',\n",
        "]\n",
        "\n",
        "dataset = []\n",
        "data_root = './'\n",
        "for cls in classes:\n",
        "    print('Processing class: {}'.format(cls))\n",
        "    for fpath in glob.glob(os.path.join(data_root, cls, '*.avi')):\n",
        "        cls_idx = classes.index(cls)\n",
        "        dataset.append((fpath, cls_idx))"
      ],
      "execution_count": 6,
      "outputs": [
        {
          "output_type": "stream",
          "text": [
            "Processing class: walking\n",
            "Processing class: jogging\n",
            "Processing class: running\n",
            "Processing class: boxing\n",
            "Processing class: handwaving\n",
            "Processing class: handclapping\n"
          ],
          "name": "stdout"
        }
      ]
    },
    {
      "cell_type": "code",
      "metadata": {
        "id": "9rTfZbJCHWIq",
        "colab_type": "code",
        "colab": {
          "base_uri": "https://localhost:8080/",
          "height": 35
        },
        "outputId": "42d91c2c-1280-4e03-f4ea-e9abbf1550c6"
      },
      "source": [
        "SUBSET_LEN = 200\n",
        "random.shuffle(dataset)\n",
        "dataset = dataset[:SUBSET_LEN]\n",
        "\n",
        "print('Dataset samples (subset):', len(dataset))"
      ],
      "execution_count": 7,
      "outputs": [
        {
          "output_type": "stream",
          "text": [
            "Dataset samples (subset): 200\n"
          ],
          "name": "stdout"
        }
      ]
    },
    {
      "cell_type": "markdown",
      "metadata": {
        "id": "DPjO49AeIsOV",
        "colab_type": "text"
      },
      "source": [
        "посмотрим на размеры наших видеофайлов"
      ]
    },
    {
      "cell_type": "code",
      "metadata": {
        "id": "hffCTm0lHU8k",
        "colab_type": "code",
        "colab": {
          "base_uri": "https://localhost:8080/",
          "height": 54
        },
        "outputId": "69d0d604-986d-4d2c-f80c-72122da565e7"
      },
      "source": [
        "%%time\n",
        "shapes = []\n",
        "for i in range(len(dataset)):\n",
        "    videodata = skvideo.io.vread(dataset[i][0])\n",
        "    shapes.append(videodata.shape)"
      ],
      "execution_count": 8,
      "outputs": [
        {
          "output_type": "stream",
          "text": [
            "CPU times: user 3.55 s, sys: 4.71 s, total: 8.26 s\n",
            "Wall time: 39.1 s\n"
          ],
          "name": "stdout"
        }
      ]
    },
    {
      "cell_type": "code",
      "metadata": {
        "id": "InNEA97lIJOk",
        "colab_type": "code",
        "colab": {
          "base_uri": "https://localhost:8080/",
          "height": 72
        },
        "outputId": "b935ebbb-2f5c-4e9c-d73d-9ee40ecb9950"
      },
      "source": [
        "print('Всего файлов {}\\nМинимальное количество кадров {}\\nМаксимальное количетво кадров {}'.format(len(shapes),sorted(shapes)[0][0], sorted(shapes)[-1][0]))"
      ],
      "execution_count": 9,
      "outputs": [
        {
          "output_type": "stream",
          "text": [
            "Всего файлов 200\n",
            "Минимальное количество кадров 280\n",
            "Максимальное количетво кадров 1092\n"
          ],
          "name": "stdout"
        }
      ]
    },
    {
      "cell_type": "markdown",
      "metadata": {
        "id": "ic0CKdfNJ85N",
        "colab_type": "text"
      },
      "source": [
        "как мы видим - у нас разное количество кадров в роликах, есть совсем маленькие, есть совсем большие"
      ]
    },
    {
      "cell_type": "markdown",
      "metadata": {
        "id": "pdzyV74nNuUz",
        "colab_type": "text"
      },
      "source": [
        "итак, что мы сделаем: мы возьмем ролики и повторим каждый из них до максимального количества кадров"
      ]
    },
    {
      "cell_type": "code",
      "metadata": {
        "id": "UqxfeOQ8DcqJ",
        "colab_type": "code",
        "colab": {
          "base_uri": "https://localhost:8080/",
          "height": 35
        },
        "outputId": "7ec493a2-e4cc-4930-a1b5-8d067544f41b"
      },
      "source": [
        "MAX_FRAMES = sorted(shapes)[-1][0]\n",
        "MAX_FRAMES"
      ],
      "execution_count": 10,
      "outputs": [
        {
          "output_type": "execute_result",
          "data": {
            "text/plain": [
              "1092"
            ]
          },
          "metadata": {
            "tags": []
          },
          "execution_count": 10
        }
      ]
    },
    {
      "cell_type": "markdown",
      "metadata": {
        "id": "Aj5EzDKzD1rC",
        "colab_type": "text"
      },
      "source": [
        "Напишем функцию, которая будет повторять ролик сам в себя до необходимого нам количества раз"
      ]
    },
    {
      "cell_type": "code",
      "metadata": {
        "id": "qslHQL1FEBWo",
        "colab_type": "code",
        "colab": {}
      },
      "source": [
        "def reshape_(np_video):\n",
        "  tmp = np_video.copy()\n",
        "  # если количество кадров в видео меньше максимального\n",
        "  if np_video.shape[0] < MAX_FRAMES:\n",
        "    # то определяем сколко раз надо повторить операцию vstack\n",
        "    num_iter = round(MAX_FRAMES / np_video.shape[0]) + 1\n",
        "    # создаем временный файл, в котором будем хранить повторы\n",
        "    tmp = np_video.copy()\n",
        "    # стакаем необходимое количество раз\n",
        "    for iterations in range(num_iter):\n",
        "      tmp = np.vstack((tmp, np_video))\n",
        "      # print(tmp.shape, MAX_FRAMES)\n",
        "      if tmp.shape[0] > MAX_FRAMES:\n",
        "        break\n",
        "    # так как мы повторяли ролик сам в себя несколько раз, то его длина может быть больше чем необходимая\n",
        "    # поэтому возьмем только необходимое нам количество кадров\n",
        "    tmp = tmp[:MAX_FRAMES, ...]\n",
        "  return tmp"
      ],
      "execution_count": 0,
      "outputs": []
    },
    {
      "cell_type": "markdown",
      "metadata": {
        "id": "zRc7nqSyEyRd",
        "colab_type": "text"
      },
      "source": [
        "Теперь преобразуем каждый ролик до нужного нам размера и запишем его"
      ]
    },
    {
      "cell_type": "code",
      "metadata": {
        "id": "_0cJmLYMEEy1",
        "colab_type": "code",
        "colab": {
          "base_uri": "https://localhost:8080/",
          "height": 67,
          "referenced_widgets": [
            "28fc4bfd8cf240d29454d4ca8f6611e3",
            "89fd08ff2cc64debabb1a96925a6c012",
            "85253abb7d8147feaa91bb0327b52feb",
            "575b4a08d0734add959fe8bdc46c55be",
            "4a36aba49bc4441da9e98a0d4c033524",
            "da943502e1864b80acc60827056946aa",
            "2aab2d1a196147aba43d5b38cb013c9c",
            "4273cd07d9fc46888038c396637b625f"
          ]
        },
        "outputId": "bbdb134a-724e-4f30-db8e-a5bdf1f8d9bd"
      },
      "source": [
        "for data in tqdm(dataset):\n",
        "  path = data[0][:-3]\n",
        "  np_video = skvideo.io.vread(data[0])\n",
        "  new_video = reshape_(np_video)\n",
        "  skvideo.io.vwrite(path + \"mp4\", new_video)"
      ],
      "execution_count": 12,
      "outputs": [
        {
          "output_type": "display_data",
          "data": {
            "application/vnd.jupyter.widget-view+json": {
              "model_id": "28fc4bfd8cf240d29454d4ca8f6611e3",
              "version_minor": 0,
              "version_major": 2
            },
            "text/plain": [
              "HBox(children=(IntProgress(value=0, max=200), HTML(value='')))"
            ]
          },
          "metadata": {
            "tags": []
          }
        },
        {
          "output_type": "stream",
          "text": [
            "\n"
          ],
          "name": "stdout"
        }
      ]
    },
    {
      "cell_type": "markdown",
      "metadata": {
        "id": "Uzb5NVfiHCIZ",
        "colab_type": "text"
      },
      "source": [
        "Теперь сделаем новый датасет"
      ]
    },
    {
      "cell_type": "code",
      "metadata": {
        "id": "M9ZJvnpiHFhV",
        "colab_type": "code",
        "colab": {
          "base_uri": "https://localhost:8080/",
          "height": 128
        },
        "outputId": "de2024d1-2665-4965-a40e-80a320364862"
      },
      "source": [
        "dataset = []\n",
        "data_root = './'\n",
        "for cls in classes:\n",
        "    print('Processing class: {}'.format(cls))\n",
        "    for fpath in glob.glob(os.path.join(data_root, cls, '*.mp4')):\n",
        "        cls_idx = classes.index(cls)\n",
        "        dataset.append((fpath, cls_idx))"
      ],
      "execution_count": 13,
      "outputs": [
        {
          "output_type": "stream",
          "text": [
            "Processing class: walking\n",
            "Processing class: jogging\n",
            "Processing class: running\n",
            "Processing class: boxing\n",
            "Processing class: handwaving\n",
            "Processing class: handclapping\n"
          ],
          "name": "stdout"
        }
      ]
    },
    {
      "cell_type": "code",
      "metadata": {
        "id": "qDv07lZhDctH",
        "colab_type": "code",
        "colab": {
          "base_uri": "https://localhost:8080/",
          "height": 54
        },
        "outputId": "8b9b8f16-eb0d-44ae-8135-93ee0a0ae0ef"
      },
      "source": [
        "%%time\n",
        "shapes = []\n",
        "for i in range(len(dataset)):\n",
        "    videodata = skvideo.io.vread(dataset[i][0])\n",
        "    shapes.append(videodata.shape)"
      ],
      "execution_count": 15,
      "outputs": [
        {
          "output_type": "stream",
          "text": [
            "CPU times: user 9.44 s, sys: 10.9 s, total: 20.3 s\n",
            "Wall time: 1min 21s\n"
          ],
          "name": "stdout"
        }
      ]
    },
    {
      "cell_type": "code",
      "metadata": {
        "id": "nvJFa86IKeqd",
        "colab_type": "code",
        "colab": {
          "base_uri": "https://localhost:8080/",
          "height": 72
        },
        "outputId": "ae104dc8-46b4-4402-83b1-bad54c1c0119"
      },
      "source": [
        "print('Всего файлов {}\\nМинимальное количество кадров {}\\nМаксимальное количетво кадров {}'.format(len(shapes),sorted(shapes)[0][0], sorted(shapes)[-1][0]))"
      ],
      "execution_count": 16,
      "outputs": [
        {
          "output_type": "stream",
          "text": [
            "Всего файлов 200\n",
            "Минимальное количество кадров 1092\n",
            "Максимальное количетво кадров 1092\n"
          ],
          "name": "stdout"
        }
      ]
    },
    {
      "cell_type": "markdown",
      "metadata": {
        "id": "H6iKJcJjKqoI",
        "colab_type": "text"
      },
      "source": [
        "Ну вот, чего мы собственно и добивались"
      ]
    },
    {
      "cell_type": "code",
      "metadata": {
        "id": "D1VQ8WdhH3mq",
        "colab_type": "code",
        "colab": {}
      },
      "source": [
        ""
      ],
      "execution_count": 0,
      "outputs": []
    },
    {
      "cell_type": "code",
      "metadata": {
        "id": "T238Nj_KH3tH",
        "colab_type": "code",
        "colab": {}
      },
      "source": [
        ""
      ],
      "execution_count": 0,
      "outputs": []
    },
    {
      "cell_type": "code",
      "metadata": {
        "id": "OAKky4yGH3yv",
        "colab_type": "code",
        "colab": {}
      },
      "source": [
        ""
      ],
      "execution_count": 0,
      "outputs": []
    },
    {
      "cell_type": "code",
      "metadata": {
        "id": "luYdZ1vCH3xW",
        "colab_type": "code",
        "colab": {}
      },
      "source": [
        ""
      ],
      "execution_count": 0,
      "outputs": []
    },
    {
      "cell_type": "code",
      "metadata": {
        "id": "ISHQnHSfH3rs",
        "colab_type": "code",
        "colab": {}
      },
      "source": [
        ""
      ],
      "execution_count": 0,
      "outputs": []
    },
    {
      "cell_type": "code",
      "metadata": {
        "id": "TbzITSYtH3qJ",
        "colab_type": "code",
        "colab": {}
      },
      "source": [
        ""
      ],
      "execution_count": 0,
      "outputs": []
    },
    {
      "cell_type": "markdown",
      "metadata": {
        "id": "xKecX592UCxv",
        "colab_type": "text"
      },
      "source": [
        "## Визуализация кадра из видео"
      ]
    },
    {
      "cell_type": "code",
      "metadata": {
        "id": "SDRvDuY5VEKT",
        "colab_type": "code",
        "outputId": "d1b536ac-34fd-4098-8897-cfd06b6ab926",
        "colab": {
          "base_uri": "https://localhost:8080/",
          "height": 286
        }
      },
      "source": [
        "videodata = skvideo.io.vread(dataset[0][0])\n",
        "videodata = videodata.astype(np.float32) / 255.\n",
        "print('videodata shape:', videodata.shape)\n",
        "plt.imshow(videodata[50, ...]);"
      ],
      "execution_count": 18,
      "outputs": [
        {
          "output_type": "stream",
          "text": [
            "videodata shape: (1092, 120, 160, 3)\n"
          ],
          "name": "stdout"
        },
        {
          "output_type": "display_data",
          "data": {
            "image/png": "[encoded data removed]",
            "text/plain": [
              "<Figure size 432x288 with 1 Axes>"
            ]
          },
          "metadata": {
            "tags": [],
            "needs_background": "light"
          }
        }
      ]
    },
    {
      "cell_type": "markdown",
      "metadata": {
        "id": "ZvDqIgDKUHfj",
        "colab_type": "text"
      },
      "source": [
        "## Визуализация \"движения\""
      ]
    },
    {
      "cell_type": "code",
      "metadata": {
        "id": "n3y0fPuExC_q",
        "colab_type": "code",
        "outputId": "f9164242-24bb-4e09-c159-ab89e7e958ef",
        "colab": {
          "base_uri": "https://localhost:8080/",
          "height": 305
        }
      },
      "source": [
        "motion = np.mean(videodata[1:, ...] - videodata[:-1, ...], axis=3, keepdims=True)\n",
        "print('motion shape:', motion.shape)\n",
        "plt.imshow(motion[50, ..., 0])"
      ],
      "execution_count": 19,
      "outputs": [
        {
          "output_type": "stream",
          "text": [
            "motion shape: (1091, 120, 160, 1)\n"
          ],
          "name": "stdout"
        },
        {
          "output_type": "execute_result",
          "data": {
            "text/plain": [
              "<matplotlib.image.AxesImage at 0x7fd415e02748>"
            ]
          },
          "metadata": {
            "tags": []
          },
          "execution_count": 19
        },
        {
          "output_type": "display_data",
          "data": {
            "image/png": "[encoded data removed]",
            "text/plain": [
              "<Figure size 432x288 with 1 Axes>"
            ]
          },
          "metadata": {
            "tags": [],
            "needs_background": "light"
          }
        }
      ]
    },
    {
      "cell_type": "markdown",
      "metadata": {
        "id": "zFFlcSY83rHa",
        "colab_type": "text"
      },
      "source": [
        "# Создание датасета"
      ]
    },
    {
      "cell_type": "code",
      "metadata": {
        "id": "aokpHVrC3qA8",
        "colab_type": "code",
        "colab": {}
      },
      "source": [
        "train_x = train_x.astype(np.float32) / 255."
      ],
      "execution_count": 0,
      "outputs": []
    },
    {
      "cell_type": "code",
      "metadata": {
        "id": "XJewEXlO3zfx",
        "colab_type": "code",
        "colab": {}
      },
      "source": [
        "BATCH_SIZE = 16\n",
        "NUM_EPOCHS = 10"
      ],
      "execution_count": 0,
      "outputs": []
    },
    {
      "cell_type": "code",
      "metadata": {
        "id": "QYcKR-BI35Lx",
        "colab_type": "code",
        "colab": {}
      },
      "source": [
        "train_ds = tf.data.Dataset.from_tensor_slices((train_x, train_y))\n",
        "train_ds = train_ds.shuffle(buffer_size=train_x.shape[0])\n",
        "train_ds = train_ds.repeat(NUM_EPOCHS)\n",
        "train_ds = train_ds.batch(BATCH_SIZE)"
      ],
      "execution_count": 0,
      "outputs": []
    },
    {
      "cell_type": "code",
      "metadata": {
        "id": "fUT9ZNw74H91",
        "colab_type": "code",
        "colab": {}
      },
      "source": [
        ""
      ],
      "execution_count": 0,
      "outputs": []
    },
    {
      "cell_type": "markdown",
      "metadata": {
        "id": "ItBo69m2NLG4",
        "colab_type": "text"
      },
      "source": [
        "# Сегодня доделаю\n"
      ]
    }
  ]
}